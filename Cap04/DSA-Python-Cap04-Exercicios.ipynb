{
 "cells": [
  {
   "cell_type": "markdown",
   "metadata": {},
   "source": [
    "# <font color='blue'>Data Science Academy</font>\n",
    "\n",
    "## <font color='blue'>Fundamentos de Linguagem Python Para Análise de Dados e Data Science</font>\n",
    "\n",
    "## <font color='blue'>Capítulo 4 - Exercícios</font>"
   ]
  },
  {
   "cell_type": "code",
   "execution_count": 1,
   "metadata": {},
   "outputs": [
    {
     "name": "stdout",
     "output_type": "stream",
     "text": [
      "Versão da Linguagem Python Usada Neste Jupyter Notebook: 3.8.8\n"
     ]
    }
   ],
   "source": [
    "# Versão da Linguagem Python\n",
    "from platform import python_version\n",
    "print('Versão da Linguagem Python Usada Neste Jupyter Notebook:', python_version())"
   ]
  },
  {
   "cell_type": "markdown",
   "metadata": {},
   "source": [
    "## Exercícios "
   ]
  },
  {
   "cell_type": "code",
   "execution_count": 1,
   "metadata": {},
   "outputs": [
    {
     "name": "stdout",
     "output_type": "stream",
     "text": [
      "[1, 2, 3, 4, 5, 6, 7, 8, 9, 10]\n"
     ]
    }
   ],
   "source": [
    "# Exercício 1 - Imprima na tela os números de 1 a 10. Use uma lista para armazenar os números.\n",
    "lista = [1, 2, 3, 4, 5, 6, 7, 8, 9, 10]\n",
    "\n",
    "print(lista)"
   ]
  },
  {
   "cell_type": "code",
   "execution_count": 19,
   "metadata": {},
   "outputs": [
    {
     "name": "stdout",
     "output_type": "stream",
     "text": [
      "['SPFC', {'1º Titulo': 1992, '2ºTitulo': 1993, '3º Titulo': 2005}, 'Tricampeão Mundial', 2006, 2007, 2008] \n",
      "\n"
     ]
    }
   ],
   "source": [
    "# Exercício 2 - Crie uma lista de 5 objetos e imprima na tela\n",
    "\n",
    "lista_2 = ['SPFC', {'1º Titulo':1992,'2ºTitulo':1993, '3º Titulo': 2005},'Tricampeão Mundial', 2006, 2007, 2008]\n",
    "\n",
    "print(lista_2,'\\n')"
   ]
  },
  {
   "cell_type": "code",
   "execution_count": 25,
   "metadata": {},
   "outputs": [
    {
     "name": "stdout",
     "output_type": "stream",
     "text": [
      "SPFC Hexa campeão mundial\n"
     ]
    }
   ],
   "source": [
    "# Exercício 3 - Crie duas strings e concatene as duas em uma terceira string\n",
    "a = 'SPFC'\n",
    "b = 'Hexa campeão mundial'\n",
    "\n",
    "print(a,''+b)"
   ]
  },
  {
   "cell_type": "code",
   "execution_count": 27,
   "metadata": {},
   "outputs": [
    {
     "name": "stdout",
     "output_type": "stream",
     "text": [
      "3\n"
     ]
    }
   ],
   "source": [
    "# Exercício 4 - Crie uma tupla com os seguintes elementos: 1, 2, 2, 3, 4, 4, 4, 5 e depois utilize a função count do \n",
    "# objeto tupla para verificar quantas vezes o número 4 aparece na tupla\n",
    "\n",
    "tupla_1 = (1, 2, 2, 3, 4, 4, 4, 5)\n",
    "\n",
    "print(tupla_1.count(4))"
   ]
  },
  {
   "cell_type": "code",
   "execution_count": 34,
   "metadata": {},
   "outputs": [
    {
     "name": "stdout",
     "output_type": "stream",
     "text": [
      "{}\n"
     ]
    }
   ],
   "source": [
    "# Exercício 5 - Crie um dicionário vazio e imprima na tela\n",
    "\n",
    "dict_1 = {}\n",
    "\n",
    "print(dict)"
   ]
  },
  {
   "cell_type": "code",
   "execution_count": 32,
   "metadata": {},
   "outputs": [
    {
     "name": "stdout",
     "output_type": "stream",
     "text": [
      "{'Bahia': 'Salvador', 'Pernambuco': 'Recife', 'Maranhão': 'São Luís'}\n"
     ]
    }
   ],
   "source": [
    "# Exercício 6 - Crie um dicionário com 3 chaves e 3 valores e imprima na tela\n",
    "\n",
    "dict_2 = {'Bahia':'Salvador', 'Pernambuco':'Recife', 'Maranhão':'São Luís'}\n",
    "\n",
    "print(dict_2)"
   ]
  },
  {
   "cell_type": "code",
   "execution_count": 37,
   "metadata": {},
   "outputs": [
    {
     "name": "stdout",
     "output_type": "stream",
     "text": [
      "{'Bahia': 'Salvador', 'Pernambuco': 'Recife', 'Maranhão': 'São Luís', 'Sergipe': 'Aracaju'}\n"
     ]
    }
   ],
   "source": [
    "# Exercício 7 - Adicione mais um elemento ao dicionário criado no exercício anterior e imprima na tela\n",
    "\n",
    "dict_1_1 = {'Sergipe':'Aracaju'}\n",
    "dict_2.update(dict_1_1)\n",
    "\n",
    "print(dict_2)"
   ]
  },
  {
   "cell_type": "code",
   "execution_count": 39,
   "metadata": {},
   "outputs": [
    {
     "name": "stdout",
     "output_type": "stream",
     "text": [
      "{'brasileiros': [2006, 2007, 2008], 'mundiais': [1992, 1993, 2005], 'sulamericana': [2012]}\n"
     ]
    },
    {
     "data": {
      "text/plain": [
       "dict_items([('brasileiros', [2006, 2007, 2008]), ('mundiais', [1992, 1993, 2005]), ('sulamericana', [2012])])"
      ]
     },
     "execution_count": 39,
     "metadata": {},
     "output_type": "execute_result"
    }
   ],
   "source": [
    "# Exercício 8 - Crie um dicionário com 3 chaves e 3 valores. \n",
    "# Um dos valores deve ser uma lista de 2 elementos numéricos. \n",
    "# Imprima o dicionário na tela.\n",
    "\n",
    "titulos_spfc = {'brasileiros':[2006, 2007, 2008], 'mundiais':[1992, 1993, 2005], 'sulamericana':[2012]}\n",
    "\n",
    "print(titulos_spfc)\n",
    "\n",
    "titulos_spfc.items()"
   ]
  },
  {
   "cell_type": "code",
   "execution_count": 10,
   "metadata": {},
   "outputs": [],
   "source": [
    "# Exercício 9 - Crie uma lista de 4 elementos. O primeiro elemento deve ser uma string, \n",
    "# o segundo uma tupla de 2 elementos, o terceiro um dcionário com 2 chaves e 2 valores e \n",
    "# o quarto elemento um valor do tipo float.\n",
    "# Imprima a lista."
   ]
  },
  {
   "cell_type": "code",
   "execution_count": 40,
   "metadata": {},
   "outputs": [
    {
     "name": "stdout",
     "output_type": "stream",
     "text": [
      "Cientista de Dados \n"
     ]
    }
   ],
   "source": [
    "# Exercício 10 - Considere a string abaixo. Imprima na tela apenas os caracteres da posição 1 a 18.\n",
    "frase = 'Cientista de Dados é o profissional mais sexy do século XXI'\n",
    "\n",
    "print(frase[0:19])"
   ]
  },
  {
   "cell_type": "markdown",
   "metadata": {},
   "source": [
    "# Fim"
   ]
  },
  {
   "cell_type": "markdown",
   "metadata": {},
   "source": [
    "### Obrigado\n",
    "\n",
    "### Visite o Blog da Data Science Academy - <a href=\"http://blog.dsacademy.com.br\">Blog DSA</a>"
   ]
  }
 ],
 "metadata": {
  "kernelspec": {
   "display_name": "Python 3 (ipykernel)",
   "language": "python",
   "name": "python3"
  },
  "language_info": {
   "codemirror_mode": {
    "name": "ipython",
    "version": 3
   },
   "file_extension": ".py",
   "mimetype": "text/x-python",
   "name": "python",
   "nbconvert_exporter": "python",
   "pygments_lexer": "ipython3",
   "version": "3.11.5"
  }
 },
 "nbformat": 4,
 "nbformat_minor": 1
}
